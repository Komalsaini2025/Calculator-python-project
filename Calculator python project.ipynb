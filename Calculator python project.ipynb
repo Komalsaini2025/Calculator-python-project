{
 "cells": [
  {
   "cell_type": "code",
   "execution_count": 1,
   "id": "cfdd9db6-fc54-4f13-b327-5cc463d0bc56",
   "metadata": {},
   "outputs": [
    {
     "name": "stdin",
     "output_type": "stream",
     "text": [
      "enter your 1st number: 6\n",
      "enter any operator: +\n",
      "enter your 2nd number: 8\n"
     ]
    },
    {
     "name": "stdout",
     "output_type": "stream",
     "text": [
      "The addition result is:14\n"
     ]
    }
   ],
   "source": [
    "def calculate():\n",
    " x=int(input(\"enter your 1st number:\"))\n",
    " operator=input(\"enter any operator:\")\n",
    " y=int(input(\"enter your 2nd number:\"))\n",
    " if operator==\"+\":\n",
    "  result= x+y\n",
    "  print(f\"The addition result is:{result}\")\n",
    " elif operator==\"-\":\n",
    "  result=x-y\n",
    "  print(f\"The subtraction result is:{result}\")\n",
    " elif operator==\"*\":\n",
    "  result=x*y\n",
    "  print(f\"The multiply result is:{result}\")\n",
    " elif operator==\"/\":\n",
    "  result=x/y\n",
    "  print(f\"The Division result is:{result}\")\n",
    " elif operator==\"//\":\n",
    "  result=x//y\n",
    "  print(f\"the floor division result is:{result}\")\n",
    " else:\n",
    "  print(\"error\")\n",
    "if __name__==\"__main__\":\n",
    "  calculate()\n"
   ]
  },
  {
   "cell_type": "code",
   "execution_count": null,
   "id": "a42f5bb3-5624-4fb3-9481-a5a9b3bd1e4f",
   "metadata": {},
   "outputs": [],
   "source": []
  }
 ],
 "metadata": {
  "kernelspec": {
   "display_name": "Python 3 (ipykernel)",
   "language": "python",
   "name": "python3"
  },
  "language_info": {
   "codemirror_mode": {
    "name": "ipython",
    "version": 3
   },
   "file_extension": ".py",
   "mimetype": "text/x-python",
   "name": "python",
   "nbconvert_exporter": "python",
   "pygments_lexer": "ipython3",
   "version": "3.12.4"
  }
 },
 "nbformat": 4,
 "nbformat_minor": 5
}
